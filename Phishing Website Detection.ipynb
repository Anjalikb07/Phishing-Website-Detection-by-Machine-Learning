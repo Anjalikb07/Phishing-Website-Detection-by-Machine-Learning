{
 "cells": [
  {
   "cell_type": "markdown",
   "id": "ec977221",
   "metadata": {},
   "source": [
    "# Phising Website Detection by Machine Learning"
   ]
  },
  {
   "cell_type": "markdown",
   "id": "03592521",
   "metadata": {},
   "source": [
    "### 1.Objective:"
   ]
  },
  {
   "cell_type": "markdown",
   "id": "ed167237",
   "metadata": {},
   "source": [
    "###### A phishing website is a common social engineering method that mimics trustful uniform resource locators (URLs) and webpages. The objective of this project is to train machine learning models on the dataset to predict phishing websites. Both phishing, Legitimate and suspicious URLs of websites are gathered to form a dataset and from them required URL and website content-based features are extracted. The performance level of each model is measured."
   ]
  },
  {
   "cell_type": "markdown",
   "id": "693e99de",
   "metadata": {},
   "source": [
    "### 2.Loading Data"
   ]
  },
  {
   "cell_type": "code",
   "execution_count": 1,
   "id": "053dfd24",
   "metadata": {},
   "outputs": [],
   "source": [
    "#importing the basic libraries\n",
    "import pandas as pd\n",
    "import numpy as np\n",
    "import seaborn as sns\n",
    "import matplotlib.pyplot as plt"
   ]
  },
  {
   "cell_type": "code",
   "execution_count": 2,
   "id": "41e5fda5",
   "metadata": {},
   "outputs": [
    {
     "data": {
      "text/html": [
       "<div>\n",
       "<style scoped>\n",
       "    .dataframe tbody tr th:only-of-type {\n",
       "        vertical-align: middle;\n",
       "    }\n",
       "\n",
       "    .dataframe tbody tr th {\n",
       "        vertical-align: top;\n",
       "    }\n",
       "\n",
       "    .dataframe thead th {\n",
       "        text-align: right;\n",
       "    }\n",
       "</style>\n",
       "<table border=\"1\" class=\"dataframe\">\n",
       "  <thead>\n",
       "    <tr style=\"text-align: right;\">\n",
       "      <th></th>\n",
       "      <th>id</th>\n",
       "      <th>SFH</th>\n",
       "      <th>popUpWidnow</th>\n",
       "      <th>SSLfinal_State</th>\n",
       "      <th>Request_URL</th>\n",
       "      <th>URL_of_Anchor</th>\n",
       "      <th>web_traffic</th>\n",
       "      <th>URL_Length</th>\n",
       "      <th>age_of_domain</th>\n",
       "      <th>having_IP_Address</th>\n",
       "      <th>Result</th>\n",
       "    </tr>\n",
       "  </thead>\n",
       "  <tbody>\n",
       "    <tr>\n",
       "      <th>0</th>\n",
       "      <td>1</td>\n",
       "      <td>1</td>\n",
       "      <td>-1.0</td>\n",
       "      <td>1.0</td>\n",
       "      <td>-1.0</td>\n",
       "      <td>-1.0</td>\n",
       "      <td>1.0</td>\n",
       "      <td>1.0</td>\n",
       "      <td>1.0</td>\n",
       "      <td>0.0</td>\n",
       "      <td>0.0</td>\n",
       "    </tr>\n",
       "    <tr>\n",
       "      <th>1</th>\n",
       "      <td>2</td>\n",
       "      <td>-1</td>\n",
       "      <td>-1.0</td>\n",
       "      <td>-1.0</td>\n",
       "      <td>-1.0</td>\n",
       "      <td>-1.0</td>\n",
       "      <td>0.0</td>\n",
       "      <td>1.0</td>\n",
       "      <td>1.0</td>\n",
       "      <td>1.0</td>\n",
       "      <td>1.0</td>\n",
       "    </tr>\n",
       "    <tr>\n",
       "      <th>2</th>\n",
       "      <td>3</td>\n",
       "      <td>1</td>\n",
       "      <td>-1.0</td>\n",
       "      <td>0.0</td>\n",
       "      <td>0.0</td>\n",
       "      <td>-1.0</td>\n",
       "      <td>0.0</td>\n",
       "      <td>-1.0</td>\n",
       "      <td>1.0</td>\n",
       "      <td>0.0</td>\n",
       "      <td>1.0</td>\n",
       "    </tr>\n",
       "    <tr>\n",
       "      <th>3</th>\n",
       "      <td>4</td>\n",
       "      <td>1</td>\n",
       "      <td>0.0</td>\n",
       "      <td>1.0</td>\n",
       "      <td>-1.0</td>\n",
       "      <td>-1.0</td>\n",
       "      <td>0.0</td>\n",
       "      <td>1.0</td>\n",
       "      <td>1.0</td>\n",
       "      <td>0.0</td>\n",
       "      <td>0.0</td>\n",
       "    </tr>\n",
       "    <tr>\n",
       "      <th>4</th>\n",
       "      <td>5</td>\n",
       "      <td>-1</td>\n",
       "      <td>-1.0</td>\n",
       "      <td>1.0</td>\n",
       "      <td>-1.0</td>\n",
       "      <td>0.0</td>\n",
       "      <td>0.0</td>\n",
       "      <td>-1.0</td>\n",
       "      <td>1.0</td>\n",
       "      <td>0.0</td>\n",
       "      <td>1.0</td>\n",
       "    </tr>\n",
       "  </tbody>\n",
       "</table>\n",
       "</div>"
      ],
      "text/plain": [
       "   id SFH  popUpWidnow  SSLfinal_State  Request_URL  URL_of_Anchor  \\\n",
       "0   1   1         -1.0             1.0         -1.0           -1.0   \n",
       "1   2  -1         -1.0            -1.0         -1.0           -1.0   \n",
       "2   3   1         -1.0             0.0          0.0           -1.0   \n",
       "3   4   1          0.0             1.0         -1.0           -1.0   \n",
       "4   5  -1         -1.0             1.0         -1.0            0.0   \n",
       "\n",
       "   web_traffic  URL_Length  age_of_domain  having_IP_Address  Result  \n",
       "0          1.0         1.0            1.0                0.0     0.0  \n",
       "1          0.0         1.0            1.0                1.0     1.0  \n",
       "2          0.0        -1.0            1.0                0.0     1.0  \n",
       "3          0.0         1.0            1.0                0.0     0.0  \n",
       "4          0.0        -1.0            1.0                0.0     1.0  "
      ]
     },
     "execution_count": 2,
     "metadata": {},
     "output_type": "execute_result"
    }
   ],
   "source": [
    "#loading the data\n",
    "df=pd.read_csv('C://Users//Anjali Babu//Downloads//websitephishing.csv')\n",
    "df.head(5)"
   ]
  },
  {
   "cell_type": "markdown",
   "id": "548a3fca",
   "metadata": {},
   "source": [
    "### 3.Familiarizing with Data"
   ]
  },
  {
   "cell_type": "code",
   "execution_count": 3,
   "id": "3db5eab2",
   "metadata": {},
   "outputs": [
    {
     "data": {
      "text/plain": [
       "(1354, 11)"
      ]
     },
     "execution_count": 3,
     "metadata": {},
     "output_type": "execute_result"
    }
   ],
   "source": [
    "#checking the shape of the dataset\n",
    "df.shape"
   ]
  },
  {
   "cell_type": "code",
   "execution_count": 4,
   "id": "b4e42d3d",
   "metadata": {},
   "outputs": [
    {
     "data": {
      "text/plain": [
       "Index(['id', 'SFH', 'popUpWidnow', 'SSLfinal_State', 'Request_URL',\n",
       "       'URL_of_Anchor', 'web_traffic', 'URL_Length', 'age_of_domain',\n",
       "       'having_IP_Address', 'Result'],\n",
       "      dtype='object')"
      ]
     },
     "execution_count": 4,
     "metadata": {},
     "output_type": "execute_result"
    }
   ],
   "source": [
    "#listing the features of the dataset\n",
    "df.columns"
   ]
  },
  {
   "cell_type": "code",
   "execution_count": 5,
   "id": "320717ed",
   "metadata": {},
   "outputs": [
    {
     "name": "stdout",
     "output_type": "stream",
     "text": [
      "<class 'pandas.core.frame.DataFrame'>\n",
      "RangeIndex: 1354 entries, 0 to 1353\n",
      "Data columns (total 11 columns):\n",
      " #   Column             Non-Null Count  Dtype  \n",
      "---  ------             --------------  -----  \n",
      " 0   id                 1354 non-null   int64  \n",
      " 1   SFH                1354 non-null   object \n",
      " 2   popUpWidnow        1353 non-null   float64\n",
      " 3   SSLfinal_State     1353 non-null   float64\n",
      " 4   Request_URL        1353 non-null   float64\n",
      " 5   URL_of_Anchor      1353 non-null   float64\n",
      " 6   web_traffic        1353 non-null   float64\n",
      " 7   URL_Length         1353 non-null   float64\n",
      " 8   age_of_domain      1353 non-null   float64\n",
      " 9   having_IP_Address  1353 non-null   float64\n",
      " 10  Result             1353 non-null   float64\n",
      "dtypes: float64(9), int64(1), object(1)\n",
      "memory usage: 116.5+ KB\n"
     ]
    }
   ],
   "source": [
    "#information about dataset\n",
    "df.info()"
   ]
  },
  {
   "cell_type": "markdown",
   "id": "8f292e44",
   "metadata": {},
   "source": [
    "### 4.Visualizing the Data"
   ]
  },
  {
   "cell_type": "code",
   "execution_count": 6,
   "id": "8c576f36",
   "metadata": {
    "scrolled": true
   },
   "outputs": [
    {
     "data": {
      "image/png": "[encoded data removed]",
      "text/plain": [
       "<Figure size 1500x1500 with 12 Axes>"
      ]
     },
     "metadata": {},
     "output_type": "display_data"
    }
   ],
   "source": [
    "#plotting the data distribution\n",
    "df.hist(bins=50,figsize=(15,15))\n",
    "plt.show()"
   ]
  },
  {
   "cell_type": "code",
   "execution_count": 7,
   "id": "340bdd34",
   "metadata": {},
   "outputs": [
    {
     "data": {
      "image/png": "[encoded data removed]",
      "text/plain": [
       "<Figure size 1500x1300 with 2 Axes>"
      ]
     },
     "metadata": {},
     "output_type": "display_data"
    }
   ],
   "source": [
    "#correlation heat map\n",
    "plt.figure(figsize=(15,13))\n",
    "sns.heatmap(df.corr())\n",
    "plt.show()"
   ]
  },
  {
   "cell_type": "markdown",
   "id": "c3d939de",
   "metadata": {},
   "source": [
    "### 5.Data Processing and EDA"
   ]
  },
  {
   "cell_type": "code",
   "execution_count": 8,
   "id": "93319fdb",
   "metadata": {},
   "outputs": [
    {
     "data": {
      "text/html": [
       "<div>\n",
       "<style scoped>\n",
       "    .dataframe tbody tr th:only-of-type {\n",
       "        vertical-align: middle;\n",
       "    }\n",
       "\n",
       "    .dataframe tbody tr th {\n",
       "        vertical-align: top;\n",
       "    }\n",
       "\n",
       "    .dataframe thead th {\n",
       "        text-align: right;\n",
       "    }\n",
       "</style>\n",
       "<table border=\"1\" class=\"dataframe\">\n",
       "  <thead>\n",
       "    <tr style=\"text-align: right;\">\n",
       "      <th></th>\n",
       "      <th>id</th>\n",
       "      <th>popUpWidnow</th>\n",
       "      <th>SSLfinal_State</th>\n",
       "      <th>Request_URL</th>\n",
       "      <th>URL_of_Anchor</th>\n",
       "      <th>web_traffic</th>\n",
       "      <th>URL_Length</th>\n",
       "      <th>age_of_domain</th>\n",
       "      <th>having_IP_Address</th>\n",
       "      <th>Result</th>\n",
       "    </tr>\n",
       "  </thead>\n",
       "  <tbody>\n",
       "    <tr>\n",
       "      <th>count</th>\n",
       "      <td>1354.000000</td>\n",
       "      <td>1353.000000</td>\n",
       "      <td>1353.000000</td>\n",
       "      <td>1353.000000</td>\n",
       "      <td>1353.000000</td>\n",
       "      <td>1353.000000</td>\n",
       "      <td>1353.000000</td>\n",
       "      <td>1353.000000</td>\n",
       "      <td>1353.000000</td>\n",
       "      <td>1353.000000</td>\n",
       "    </tr>\n",
       "    <tr>\n",
       "      <th>mean</th>\n",
       "      <td>677.500000</td>\n",
       "      <td>-0.258684</td>\n",
       "      <td>0.327421</td>\n",
       "      <td>-0.223208</td>\n",
       "      <td>-0.025129</td>\n",
       "      <td>0.000000</td>\n",
       "      <td>-0.053215</td>\n",
       "      <td>0.219512</td>\n",
       "      <td>0.114560</td>\n",
       "      <td>-0.113821</td>\n",
       "    </tr>\n",
       "    <tr>\n",
       "      <th>std</th>\n",
       "      <td>391.010443</td>\n",
       "      <td>0.679072</td>\n",
       "      <td>0.822193</td>\n",
       "      <td>0.799682</td>\n",
       "      <td>0.936262</td>\n",
       "      <td>0.806776</td>\n",
       "      <td>0.762552</td>\n",
       "      <td>0.975970</td>\n",
       "      <td>0.318608</td>\n",
       "      <td>0.954773</td>\n",
       "    </tr>\n",
       "    <tr>\n",
       "      <th>min</th>\n",
       "      <td>1.000000</td>\n",
       "      <td>-1.000000</td>\n",
       "      <td>-1.000000</td>\n",
       "      <td>-1.000000</td>\n",
       "      <td>-1.000000</td>\n",
       "      <td>-1.000000</td>\n",
       "      <td>-1.000000</td>\n",
       "      <td>-1.000000</td>\n",
       "      <td>0.000000</td>\n",
       "      <td>-1.000000</td>\n",
       "    </tr>\n",
       "    <tr>\n",
       "      <th>25%</th>\n",
       "      <td>339.250000</td>\n",
       "      <td>-1.000000</td>\n",
       "      <td>0.000000</td>\n",
       "      <td>-1.000000</td>\n",
       "      <td>-1.000000</td>\n",
       "      <td>-1.000000</td>\n",
       "      <td>-1.000000</td>\n",
       "      <td>-1.000000</td>\n",
       "      <td>0.000000</td>\n",
       "      <td>-1.000000</td>\n",
       "    </tr>\n",
       "    <tr>\n",
       "      <th>50%</th>\n",
       "      <td>677.500000</td>\n",
       "      <td>0.000000</td>\n",
       "      <td>1.000000</td>\n",
       "      <td>0.000000</td>\n",
       "      <td>0.000000</td>\n",
       "      <td>0.000000</td>\n",
       "      <td>0.000000</td>\n",
       "      <td>1.000000</td>\n",
       "      <td>0.000000</td>\n",
       "      <td>-1.000000</td>\n",
       "    </tr>\n",
       "    <tr>\n",
       "      <th>75%</th>\n",
       "      <td>1015.750000</td>\n",
       "      <td>0.000000</td>\n",
       "      <td>1.000000</td>\n",
       "      <td>0.000000</td>\n",
       "      <td>1.000000</td>\n",
       "      <td>1.000000</td>\n",
       "      <td>1.000000</td>\n",
       "      <td>1.000000</td>\n",
       "      <td>0.000000</td>\n",
       "      <td>1.000000</td>\n",
       "    </tr>\n",
       "    <tr>\n",
       "      <th>max</th>\n",
       "      <td>1354.000000</td>\n",
       "      <td>1.000000</td>\n",
       "      <td>1.000000</td>\n",
       "      <td>1.000000</td>\n",
       "      <td>1.000000</td>\n",
       "      <td>1.000000</td>\n",
       "      <td>1.000000</td>\n",
       "      <td>1.000000</td>\n",
       "      <td>1.000000</td>\n",
       "      <td>1.000000</td>\n",
       "    </tr>\n",
       "  </tbody>\n",
       "</table>\n",
       "</div>"
      ],
      "text/plain": [
       "                id  popUpWidnow  SSLfinal_State  Request_URL  URL_of_Anchor  \\\n",
       "count  1354.000000  1353.000000     1353.000000  1353.000000    1353.000000   \n",
       "mean    677.500000    -0.258684        0.327421    -0.223208      -0.025129   \n",
       "std     391.010443     0.679072        0.822193     0.799682       0.936262   \n",
       "min       1.000000    -1.000000       -1.000000    -1.000000      -1.000000   \n",
       "25%     339.250000    -1.000000        0.000000    -1.000000      -1.000000   \n",
       "50%     677.500000     0.000000        1.000000     0.000000       0.000000   \n",
       "75%    1015.750000     0.000000        1.000000     0.000000       1.000000   \n",
       "max    1354.000000     1.000000        1.000000     1.000000       1.000000   \n",
       "\n",
       "       web_traffic   URL_Length  age_of_domain  having_IP_Address       Result  \n",
       "count  1353.000000  1353.000000    1353.000000        1353.000000  1353.000000  \n",
       "mean      0.000000    -0.053215       0.219512           0.114560    -0.113821  \n",
       "std       0.806776     0.762552       0.975970           0.318608     0.954773  \n",
       "min      -1.000000    -1.000000      -1.000000           0.000000    -1.000000  \n",
       "25%      -1.000000    -1.000000      -1.000000           0.000000    -1.000000  \n",
       "50%       0.000000     0.000000       1.000000           0.000000    -1.000000  \n",
       "75%       1.000000     1.000000       1.000000           0.000000     1.000000  \n",
       "max       1.000000     1.000000       1.000000           1.000000     1.000000  "
      ]
     },
     "execution_count": 8,
     "metadata": {},
     "output_type": "execute_result"
    }
   ],
   "source": [
    "df.describe()"
   ]
  },
  {
   "cell_type": "markdown",
   "id": "94bd34e2",
   "metadata": {},
   "source": [
    "##### The above obtained result shows that all of the data is made of 1's,0's and -1's except the id column, the id column doesn't have any significance to the machine learning model training.So dropping 'id' column from the dataset"
   ]
  },
  {
   "cell_type": "code",
   "execution_count": 9,
   "id": "cbce7861",
   "metadata": {},
   "outputs": [],
   "source": [
    "#dropping the id column\n",
    "df.drop('id',inplace=True,axis=1)"
   ]
  },
  {
   "cell_type": "code",
   "execution_count": 10,
   "id": "eb65a782",
   "metadata": {},
   "outputs": [
    {
     "data": {
      "text/plain": [
       "SFH                  0\n",
       "popUpWidnow          1\n",
       "SSLfinal_State       1\n",
       "Request_URL          1\n",
       "URL_of_Anchor        1\n",
       "web_traffic          1\n",
       "URL_Length           1\n",
       "age_of_domain        1\n",
       "having_IP_Address    1\n",
       "Result               1\n",
       "dtype: int64"
      ]
     },
     "execution_count": 10,
     "metadata": {},
     "output_type": "execute_result"
    }
   ],
   "source": [
    "#checking the data for null or missing values\n",
    "df.isnull().sum()"
   ]
  },
  {
   "cell_type": "code",
   "execution_count": 11,
   "id": "b2ab499b",
   "metadata": {},
   "outputs": [
    {
     "name": "stdout",
     "output_type": "stream",
     "text": [
      "<class 'pandas.core.frame.DataFrame'>\n",
      "RangeIndex: 1354 entries, 0 to 1353\n",
      "Data columns (total 10 columns):\n",
      " #   Column             Non-Null Count  Dtype  \n",
      "---  ------             --------------  -----  \n",
      " 0   SFH                1354 non-null   object \n",
      " 1   popUpWidnow        1353 non-null   float64\n",
      " 2   SSLfinal_State     1353 non-null   float64\n",
      " 3   Request_URL        1353 non-null   float64\n",
      " 4   URL_of_Anchor      1353 non-null   float64\n",
      " 5   web_traffic        1353 non-null   float64\n",
      " 6   URL_Length         1353 non-null   float64\n",
      " 7   age_of_domain      1353 non-null   float64\n",
      " 8   having_IP_Address  1353 non-null   float64\n",
      " 9   Result             1353 non-null   float64\n",
      "dtypes: float64(9), object(1)\n",
      "memory usage: 105.9+ KB\n"
     ]
    }
   ],
   "source": [
    "df.info()"
   ]
  },
  {
   "cell_type": "code",
   "execution_count": 12,
   "id": "9810d202",
   "metadata": {},
   "outputs": [],
   "source": [
    "df.fillna(0,inplace=True)"
   ]
  },
  {
   "cell_type": "code",
   "execution_count": 13,
   "id": "e06f187c",
   "metadata": {},
   "outputs": [
    {
     "name": "stdout",
     "output_type": "stream",
     "text": [
      "<class 'pandas.core.frame.DataFrame'>\n",
      "RangeIndex: 1354 entries, 0 to 1353\n",
      "Data columns (total 10 columns):\n",
      " #   Column             Non-Null Count  Dtype  \n",
      "---  ------             --------------  -----  \n",
      " 0   SFH                1354 non-null   object \n",
      " 1   popUpWidnow        1354 non-null   float64\n",
      " 2   SSLfinal_State     1354 non-null   float64\n",
      " 3   Request_URL        1354 non-null   float64\n",
      " 4   URL_of_Anchor      1354 non-null   float64\n",
      " 5   web_traffic        1354 non-null   float64\n",
      " 6   URL_Length         1354 non-null   float64\n",
      " 7   age_of_domain      1354 non-null   float64\n",
      " 8   having_IP_Address  1354 non-null   float64\n",
      " 9   Result             1354 non-null   float64\n",
      "dtypes: float64(9), object(1)\n",
      "memory usage: 105.9+ KB\n"
     ]
    }
   ],
   "source": [
    "df.info()"
   ]
  },
  {
   "cell_type": "markdown",
   "id": "8ccb69ea",
   "metadata": {},
   "source": [
    "### 6.Splitting the Data"
   ]
  },
  {
   "cell_type": "code",
   "execution_count": 14,
   "id": "1c0ea5ce",
   "metadata": {},
   "outputs": [
    {
     "data": {
      "text/plain": [
       "((1354, 9), (1354,))"
      ]
     },
     "execution_count": 14,
     "metadata": {},
     "output_type": "execute_result"
    }
   ],
   "source": [
    "#Seperating and assigning features and target columns to X and Y\n",
    "y=df['Result']\n",
    "x=df.drop('Result',axis=1)\n",
    "x.shape,y.shape"
   ]
  },
  {
   "cell_type": "code",
   "execution_count": 15,
   "id": "3d2250e6",
   "metadata": {},
   "outputs": [],
   "source": [
    "x=x.apply(pd.to_numeric,errors='coerce')\n",
    "y=y.apply(pd.to_numeric,errors='coerce')"
   ]
  },
  {
   "cell_type": "code",
   "execution_count": 16,
   "id": "964395a2",
   "metadata": {},
   "outputs": [],
   "source": [
    "x.fillna(0,inplace=True)\n",
    "y.fillna(0,inplace=True)"
   ]
  },
  {
   "cell_type": "code",
   "execution_count": 17,
   "id": "6b59b76a",
   "metadata": {},
   "outputs": [
    {
     "data": {
      "text/plain": [
       "((1083, 9), (271, 9))"
      ]
     },
     "execution_count": 17,
     "metadata": {},
     "output_type": "execute_result"
    }
   ],
   "source": [
    "#Splitting the data into train and test slpit:80:20 split\n",
    "from sklearn.model_selection import train_test_split\n",
    "x_train,x_test,y_train,y_test=train_test_split(x,y,test_size=0.2,random_state=12)\n",
    "x_train.shape,x_test.shape"
   ]
  },
  {
   "cell_type": "code",
   "execution_count": 18,
   "id": "eef3787a",
   "metadata": {},
   "outputs": [
    {
     "data": {
      "text/plain": [
       "((1083,), (271,))"
      ]
     },
     "execution_count": 18,
     "metadata": {},
     "output_type": "execute_result"
    }
   ],
   "source": [
    "y_train.shape,y_test.shape"
   ]
  },
  {
   "cell_type": "markdown",
   "id": "dd2b0be4",
   "metadata": {},
   "source": [
    "### 7.Machine Leraning Models and Training"
   ]
  },
  {
   "cell_type": "code",
   "execution_count": 19,
   "id": "24008e88",
   "metadata": {},
   "outputs": [],
   "source": [
    "#importing packages\n",
    "from sklearn.metrics import accuracy_score"
   ]
  },
  {
   "cell_type": "code",
   "execution_count": 20,
   "id": "9f0b583d",
   "metadata": {},
   "outputs": [],
   "source": [
    "#Creating holders to store the model performance results\n",
    "ML_Model=[]\n",
    "acc_train=[]\n",
    "acc_test=[]\n",
    "def storeResult(model,a,b):\n",
    "    ML_Model.append(model)\n",
    "    acc_train.append(round(a,3))\n",
    "    acc_test.append(round(b,3))"
   ]
  },
  {
   "cell_type": "markdown",
   "id": "4522c11b",
   "metadata": {},
   "source": [
    "### 7.1 Decision Tree Classifier"
   ]
  },
  {
   "cell_type": "code",
   "execution_count": 21,
   "id": "d65047af",
   "metadata": {},
   "outputs": [
    {
     "data": {
      "text/plain": [
       "DecisionTreeClassifier()"
      ]
     },
     "execution_count": 21,
     "metadata": {},
     "output_type": "execute_result"
    }
   ],
   "source": [
    "#Decision Tree model\n",
    "from sklearn.tree import DecisionTreeClassifier\n",
    "\n",
    "#instantiate the model\n",
    "tree=DecisionTreeClassifier()\n",
    "#fit the model\n",
    "tree.fit(x_train,y_train)"
   ]
  },
  {
   "cell_type": "code",
   "execution_count": 22,
   "id": "e1821bcb",
   "metadata": {},
   "outputs": [],
   "source": [
    "#predicting the target value from the model for the samples\n",
    "y_test_tree=tree.predict(x_test)\n",
    "y_train_tree=tree.predict(x_train)"
   ]
  },
  {
   "cell_type": "markdown",
   "id": "bd36bafd",
   "metadata": {},
   "source": [
    "#### Performance Evaluation"
   ]
  },
  {
   "cell_type": "code",
   "execution_count": 23,
   "id": "b992a38f",
   "metadata": {},
   "outputs": [
    {
     "name": "stdout",
     "output_type": "stream",
     "text": [
      "Decision Tree Accuracy on training Data: 0.9621421975992613\n",
      "Decision Tree Accuracy on test Data: 0.8782287822878229\n"
     ]
    }
   ],
   "source": [
    "#computing the accuracy of the model performance\n",
    "acc_train_tree=accuracy_score(y_train,y_train_tree)\n",
    "acc_test_tree=accuracy_score(y_test,y_test_tree)\n",
    "print(\"Decision Tree Accuracy on training Data:\",(acc_train_tree))\n",
    "print(\"Decision Tree Accuracy on test Data:\",(acc_test_tree))"
   ]
  },
  {
   "cell_type": "code",
   "execution_count": 24,
   "id": "5451db5b",
   "metadata": {},
   "outputs": [
    {
     "data": {
      "image/png": "[encoded data removed]",
      "text/plain": [
       "<Figure size 900x700 with 1 Axes>"
      ]
     },
     "metadata": {},
     "output_type": "display_data"
    }
   ],
   "source": [
    "#checking the feature improtance in the model\n",
    "plt.figure(figsize=(9,7))\n",
    "n_features = x_train.shape[1]\n",
    "plt.barh(range(n_features), tree.feature_importances_, align='center')\n",
    "plt.yticks(np.arange(n_features), x_train.columns)\n",
    "plt.xlabel(\"Feature importance\")\n",
    "plt.ylabel(\"Feature\")\n",
    "plt.show()"
   ]
  },
  {
   "cell_type": "markdown",
   "id": "2bf0bf02",
   "metadata": {},
   "source": [
    "#### Storing the Result"
   ]
  },
  {
   "cell_type": "code",
   "execution_count": 25,
   "id": "c6d323a7",
   "metadata": {},
   "outputs": [],
   "source": [
    "#storing the results. The below mentioned order of parameter passing is important\n",
    "#Caution: Execute only once to avoid duplication.\n",
    "storeResult('Decision Tree',acc_train_tree,acc_test_tree)"
   ]
  },
  {
   "cell_type": "markdown",
   "id": "c9f05fa7",
   "metadata": {},
   "source": [
    "### 7.2 Random Forest Classifier"
   ]
  },
  {
   "cell_type": "code",
   "execution_count": 26,
   "id": "4f0227a3",
   "metadata": {},
   "outputs": [
    {
     "data": {
      "text/plain": [
       "RandomForestClassifier()"
      ]
     },
     "execution_count": 26,
     "metadata": {},
     "output_type": "execute_result"
    }
   ],
   "source": [
    "#Random Forest model\n",
    "from sklearn.ensemble import RandomForestClassifier\n",
    "\n",
    "#instantiate the model\n",
    "forest=RandomForestClassifier()\n",
    "#fit the model\n",
    "forest.fit(x_train,y_train)"
   ]
  },
  {
   "cell_type": "code",
   "execution_count": 27,
   "id": "daa490e5",
   "metadata": {},
   "outputs": [],
   "source": [
    "#predicting the target value from the model for the samples\n",
    "y_test_forest=forest.predict(x_test)\n",
    "y_train_forest=forest.predict(x_train)"
   ]
  },
  {
   "cell_type": "markdown",
   "id": "c378df47",
   "metadata": {},
   "source": [
    "#### Performance Evaluation"
   ]
  },
  {
   "cell_type": "code",
   "execution_count": 28,
   "id": "0ebd228b",
   "metadata": {},
   "outputs": [
    {
     "name": "stdout",
     "output_type": "stream",
     "text": [
      "Random Forest Accuracy on training Data: 0.9621421975992613\n",
      "Random Forest Accuracy on testing Data: 0.9040590405904059\n"
     ]
    }
   ],
   "source": [
    "#computing the accuracy of the model performance\n",
    "acc_train_forest=accuracy_score(y_train,y_train_forest)\n",
    "acc_test_forest=accuracy_score(y_test,y_test_forest)\n",
    "print(\"Random Forest Accuracy on training Data:\",(acc_train_forest))\n",
    "print(\"Random Forest Accuracy on testing Data:\",(acc_test_forest))"
   ]
  },
  {
   "cell_type": "code",
   "execution_count": 29,
   "id": "3a3c7b2d",
   "metadata": {},
   "outputs": [
    {
     "data": {
      "image/png": "[encoded data removed]",
      "text/plain": [
       "<Figure size 900x700 with 1 Axes>"
      ]
     },
     "metadata": {},
     "output_type": "display_data"
    }
   ],
   "source": [
    "#checking the feature importance in the model\n",
    "plt.figure(figsize=(9,7))\n",
    "n_features = x_train.shape[1]\n",
    "plt.barh(range(n_features), forest.feature_importances_, align='center')\n",
    "plt.yticks(np.arange(n_features), x_train.columns)\n",
    "plt.xlabel(\"Feature importance\")\n",
    "plt.ylabel(\"Feature\")\n",
    "plt.show()"
   ]
  },
  {
   "cell_type": "markdown",
   "id": "8cad4d19",
   "metadata": {},
   "source": [
    "#### Storing the Result"
   ]
  },
  {
   "cell_type": "code",
   "execution_count": 30,
   "id": "2b8dd842",
   "metadata": {},
   "outputs": [],
   "source": [
    "#storing the result\n",
    "storeResult('Random Forest',acc_train_forest,acc_test_forest)"
   ]
  },
  {
   "cell_type": "markdown",
   "id": "fefbdc79",
   "metadata": {},
   "source": [
    "### 7.3 Support Vector Machine"
   ]
  },
  {
   "cell_type": "code",
   "execution_count": 31,
   "id": "84e6c417",
   "metadata": {},
   "outputs": [
    {
     "data": {
      "text/plain": [
       "SVC(kernel='linear', random_state=12)"
      ]
     },
     "execution_count": 31,
     "metadata": {},
     "output_type": "execute_result"
    }
   ],
   "source": [
    "#Support vector machine model\n",
    "from sklearn.svm import SVC\n",
    "\n",
    "#instantiate the model\n",
    "svm=SVC(kernel='linear',C=1.0,random_state=12)\n",
    "#fit the model\n",
    "svm.fit(x_train,y_train)"
   ]
  },
  {
   "cell_type": "code",
   "execution_count": 32,
   "id": "a2939d05",
   "metadata": {},
   "outputs": [],
   "source": [
    "#predicting the target value from the model for the samples\n",
    "y_test_svm=svm.predict(x_test)\n",
    "y_train_svm=svm.predict(x_train)"
   ]
  },
  {
   "cell_type": "markdown",
   "id": "31d9968b",
   "metadata": {},
   "source": [
    "#### Performance Evaluation"
   ]
  },
  {
   "cell_type": "code",
   "execution_count": 33,
   "id": "e1ba6b4a",
   "metadata": {},
   "outputs": [
    {
     "name": "stdout",
     "output_type": "stream",
     "text": [
      "SVM Accuracy on training Data: 0.850415512465374\n",
      "SVM Accuracy on testing Data: 0.8154981549815498\n"
     ]
    }
   ],
   "source": [
    "#computing the accuracy of the model performance\n",
    "acc_train_svm=accuracy_score(y_train,y_train_svm)\n",
    "acc_test_svm=accuracy_score(y_test,y_test_svm)\n",
    "print(\"SVM Accuracy on training Data:\",(acc_train_svm))\n",
    "print(\"SVM Accuracy on testing Data:\",(acc_test_svm))"
   ]
  },
  {
   "cell_type": "code",
   "execution_count": 34,
   "id": "5151cf55",
   "metadata": {},
   "outputs": [],
   "source": [
    "#Storing the Results\n",
    "storeResult('SVM',acc_train_svm,acc_test_svm)"
   ]
  },
  {
   "cell_type": "markdown",
   "id": "cacf3606",
   "metadata": {},
   "source": [
    "### 7.4 Logistic Regression"
   ]
  },
  {
   "cell_type": "code",
   "execution_count": 35,
   "id": "dd3b6455",
   "metadata": {},
   "outputs": [
    {
     "data": {
      "text/plain": [
       "LogisticRegression()"
      ]
     },
     "execution_count": 35,
     "metadata": {},
     "output_type": "execute_result"
    }
   ],
   "source": [
    "#Logistic Regression model\n",
    "from sklearn.linear_model import LogisticRegression\n",
    "\n",
    "#initiate the model\n",
    "logreg=LogisticRegression()\n",
    "#fit the model\n",
    "logreg.fit(x_train,y_train)"
   ]
  },
  {
   "cell_type": "code",
   "execution_count": 36,
   "id": "e064a347",
   "metadata": {},
   "outputs": [],
   "source": [
    "#predicting the target value from the model for the samples\n",
    "y_test_logreg=logreg.predict(x_test)\n",
    "y_train_logreg=logreg.predict(x_train)"
   ]
  },
  {
   "cell_type": "markdown",
   "id": "abc3c8bf",
   "metadata": {},
   "source": [
    "#### Performance Evaluation"
   ]
  },
  {
   "cell_type": "code",
   "execution_count": 37,
   "id": "377eb76d",
   "metadata": {},
   "outputs": [
    {
     "name": "stdout",
     "output_type": "stream",
     "text": [
      "Logistic Regression on training Data: 0.8384118190212373\n",
      "Logistic Regression on test Data: 0.8007380073800738\n"
     ]
    }
   ],
   "source": [
    "#computing the accuracy of the model performance\n",
    "acc_train_logreg=accuracy_score(y_train,y_train_logreg)\n",
    "acc_test_logreg=accuracy_score(y_test,y_test_logreg)\n",
    "print(\"Logistic Regression on training Data:\",(acc_train_logreg))\n",
    "print(\"Logistic Regression on test Data:\",(acc_test_logreg))"
   ]
  },
  {
   "cell_type": "markdown",
   "id": "e838c81c",
   "metadata": {},
   "source": [
    "#### Storing the Result"
   ]
  },
  {
   "cell_type": "code",
   "execution_count": 38,
   "id": "1c5c413d",
   "metadata": {},
   "outputs": [],
   "source": [
    "#storing the result\n",
    "storeResult('Logistic Regression',acc_train_logreg,acc_test_logreg)"
   ]
  },
  {
   "cell_type": "markdown",
   "id": "580def01",
   "metadata": {},
   "source": [
    "### 7.5 K Nearest Neighbour"
   ]
  },
  {
   "cell_type": "code",
   "execution_count": 39,
   "id": "cf4e4b15",
   "metadata": {},
   "outputs": [
    {
     "data": {
      "text/plain": [
       "KNeighborsClassifier(n_neighbors=3)"
      ]
     },
     "execution_count": 39,
     "metadata": {},
     "output_type": "execute_result"
    }
   ],
   "source": [
    "#K Nearest Neighbour model\n",
    "from sklearn.neighbors import KNeighborsClassifier\n",
    "\n",
    "#initiate the model\n",
    "knn=KNeighborsClassifier(n_neighbors=3)\n",
    "#fit the model\n",
    "knn.fit(x_train,y_train)"
   ]
  },
  {
   "cell_type": "code",
   "execution_count": 40,
   "id": "aaa2864c",
   "metadata": {},
   "outputs": [
    {
     "name": "stderr",
     "output_type": "stream",
     "text": [
      "C:\\Users\\Anjali Babu\\anaconda3\\lib\\site-packages\\sklearn\\neighbors\\_classification.py:228: FutureWarning: Unlike other reduction functions (e.g. `skew`, `kurtosis`), the default behavior of `mode` typically preserves the axis it acts along. In SciPy 1.11.0, this behavior will change: the default value of `keepdims` will become False, the `axis` over which the statistic is taken will be eliminated, and the value None will no longer be accepted. Set `keepdims` to True or False to avoid this warning.\n",
      "  mode, _ = stats.mode(_y[neigh_ind, k], axis=1)\n",
      "C:\\Users\\Anjali Babu\\anaconda3\\lib\\site-packages\\sklearn\\neighbors\\_classification.py:228: FutureWarning: Unlike other reduction functions (e.g. `skew`, `kurtosis`), the default behavior of `mode` typically preserves the axis it acts along. In SciPy 1.11.0, this behavior will change: the default value of `keepdims` will become False, the `axis` over which the statistic is taken will be eliminated, and the value None will no longer be accepted. Set `keepdims` to True or False to avoid this warning.\n",
      "  mode, _ = stats.mode(_y[neigh_ind, k], axis=1)\n"
     ]
    }
   ],
   "source": [
    "#predicting the target value from the model for the samples\n",
    "y_test_knn=knn.predict(x_test)\n",
    "y_train_knn=knn.predict(x_train)"
   ]
  },
  {
   "cell_type": "markdown",
   "id": "04e1ca0b",
   "metadata": {},
   "source": [
    "#### Performance Evaluation"
   ]
  },
  {
   "cell_type": "code",
   "execution_count": 41,
   "id": "7c80ec79",
   "metadata": {},
   "outputs": [
    {
     "name": "stdout",
     "output_type": "stream",
     "text": [
      "KNN Accuracy on training Data: 0.9307479224376731\n",
      "KNN Accuracy on testing Data: 0.8819188191881919\n"
     ]
    }
   ],
   "source": [
    "#computing the accuracy of the model performance\n",
    "acc_train_knn=accuracy_score(y_train,y_train_knn)\n",
    "acc_test_knn=accuracy_score(y_test,y_test_knn)\n",
    "print(\"KNN Accuracy on training Data:\",(acc_train_knn))\n",
    "print(\"KNN Accuracy on testing Data:\",(acc_test_knn))"
   ]
  },
  {
   "cell_type": "markdown",
   "id": "27089c28",
   "metadata": {},
   "source": [
    "#### Storing the Result"
   ]
  },
  {
   "cell_type": "code",
   "execution_count": 42,
   "id": "9640d1be",
   "metadata": {},
   "outputs": [],
   "source": [
    "storeResult('KNN',acc_train_knn,acc_test_knn)"
   ]
  },
  {
   "cell_type": "markdown",
   "id": "305f67de",
   "metadata": {},
   "source": [
    "### 8.Comparison of models"
   ]
  },
  {
   "cell_type": "code",
   "execution_count": 43,
   "id": "0dcd5ade",
   "metadata": {
    "scrolled": true
   },
   "outputs": [
    {
     "data": {
      "text/html": [
       "<div>\n",
       "<style scoped>\n",
       "    .dataframe tbody tr th:only-of-type {\n",
       "        vertical-align: middle;\n",
       "    }\n",
       "\n",
       "    .dataframe tbody tr th {\n",
       "        vertical-align: top;\n",
       "    }\n",
       "\n",
       "    .dataframe thead th {\n",
       "        text-align: right;\n",
       "    }\n",
       "</style>\n",
       "<table border=\"1\" class=\"dataframe\">\n",
       "  <thead>\n",
       "    <tr style=\"text-align: right;\">\n",
       "      <th></th>\n",
       "      <th>ML Model</th>\n",
       "      <th>Train Accuracy</th>\n",
       "      <th>Test Accuracy</th>\n",
       "    </tr>\n",
       "  </thead>\n",
       "  <tbody>\n",
       "    <tr>\n",
       "      <th>0</th>\n",
       "      <td>Decision Tree</td>\n",
       "      <td>0.962</td>\n",
       "      <td>0.878</td>\n",
       "    </tr>\n",
       "    <tr>\n",
       "      <th>1</th>\n",
       "      <td>Random Forest</td>\n",
       "      <td>0.962</td>\n",
       "      <td>0.904</td>\n",
       "    </tr>\n",
       "    <tr>\n",
       "      <th>2</th>\n",
       "      <td>SVM</td>\n",
       "      <td>0.850</td>\n",
       "      <td>0.815</td>\n",
       "    </tr>\n",
       "    <tr>\n",
       "      <th>3</th>\n",
       "      <td>Logistic Regression</td>\n",
       "      <td>0.838</td>\n",
       "      <td>0.801</td>\n",
       "    </tr>\n",
       "    <tr>\n",
       "      <th>4</th>\n",
       "      <td>KNN</td>\n",
       "      <td>0.931</td>\n",
       "      <td>0.882</td>\n",
       "    </tr>\n",
       "  </tbody>\n",
       "</table>\n",
       "</div>"
      ],
      "text/plain": [
       "              ML Model  Train Accuracy  Test Accuracy\n",
       "0        Decision Tree           0.962          0.878\n",
       "1        Random Forest           0.962          0.904\n",
       "2                  SVM           0.850          0.815\n",
       "3  Logistic Regression           0.838          0.801\n",
       "4                  KNN           0.931          0.882"
      ]
     },
     "execution_count": 43,
     "metadata": {},
     "output_type": "execute_result"
    }
   ],
   "source": [
    "#creating dataframe\n",
    "results = pd.DataFrame({ 'ML Model': ML_Model,    \n",
    "    'Train Accuracy': acc_train,\n",
    "    'Test Accuracy': acc_test})\n",
    "results"
   ]
  },
  {
   "cell_type": "code",
   "execution_count": 44,
   "id": "c518b32e",
   "metadata": {},
   "outputs": [
    {
     "data": {
      "text/html": [
       "<div>\n",
       "<style scoped>\n",
       "    .dataframe tbody tr th:only-of-type {\n",
       "        vertical-align: middle;\n",
       "    }\n",
       "\n",
       "    .dataframe tbody tr th {\n",
       "        vertical-align: top;\n",
       "    }\n",
       "\n",
       "    .dataframe thead th {\n",
       "        text-align: right;\n",
       "    }\n",
       "</style>\n",
       "<table border=\"1\" class=\"dataframe\">\n",
       "  <thead>\n",
       "    <tr style=\"text-align: right;\">\n",
       "      <th></th>\n",
       "      <th>ML Model</th>\n",
       "      <th>Train Accuracy</th>\n",
       "      <th>Test Accuracy</th>\n",
       "    </tr>\n",
       "  </thead>\n",
       "  <tbody>\n",
       "    <tr>\n",
       "      <th>1</th>\n",
       "      <td>Random Forest</td>\n",
       "      <td>0.962</td>\n",
       "      <td>0.904</td>\n",
       "    </tr>\n",
       "    <tr>\n",
       "      <th>4</th>\n",
       "      <td>KNN</td>\n",
       "      <td>0.931</td>\n",
       "      <td>0.882</td>\n",
       "    </tr>\n",
       "    <tr>\n",
       "      <th>0</th>\n",
       "      <td>Decision Tree</td>\n",
       "      <td>0.962</td>\n",
       "      <td>0.878</td>\n",
       "    </tr>\n",
       "    <tr>\n",
       "      <th>2</th>\n",
       "      <td>SVM</td>\n",
       "      <td>0.850</td>\n",
       "      <td>0.815</td>\n",
       "    </tr>\n",
       "    <tr>\n",
       "      <th>3</th>\n",
       "      <td>Logistic Regression</td>\n",
       "      <td>0.838</td>\n",
       "      <td>0.801</td>\n",
       "    </tr>\n",
       "  </tbody>\n",
       "</table>\n",
       "</div>"
      ],
      "text/plain": [
       "              ML Model  Train Accuracy  Test Accuracy\n",
       "1        Random Forest           0.962          0.904\n",
       "4                  KNN           0.931          0.882\n",
       "0        Decision Tree           0.962          0.878\n",
       "2                  SVM           0.850          0.815\n",
       "3  Logistic Regression           0.838          0.801"
      ]
     },
     "execution_count": 44,
     "metadata": {},
     "output_type": "execute_result"
    }
   ],
   "source": [
    "results.sort_values(by=['Test Accuracy', 'Train Accuracy'], ascending=False)"
   ]
  },
  {
   "cell_type": "code",
   "execution_count": null,
   "id": "9a9c30c5",
   "metadata": {},
   "outputs": [],
   "source": []
  }
 ],
 "metadata": {
  "kernelspec": {
   "display_name": "Python 3 (ipykernel)",
   "language": "python",
   "name": "python3"
  },
  "language_info": {
   "codemirror_mode": {
    "name": "ipython",
    "version": 3
   },
   "file_extension": ".py",
   "mimetype": "text/x-python",
   "name": "python",
   "nbconvert_exporter": "python",
   "pygments_lexer": "ipython3",
   "version": "3.9.13"
  }
 },
 "nbformat": 4,
 "nbformat_minor": 5
}
